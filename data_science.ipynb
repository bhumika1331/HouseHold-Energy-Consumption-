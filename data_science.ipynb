{
  "metadata": {
    "kernelspec": {
      "name": "python",
      "display_name": "Python (Pyodide)",
      "language": "python"
    },
    "language_info": {
      "codemirror_mode": {
        "name": "python",
        "version": 3
      },
      "file_extension": ".py",
      "mimetype": "text/x-python",
      "name": "python",
      "nbconvert_exporter": "python",
      "pygments_lexer": "ipython3",
      "version": "3.8"
    }
  },
  "nbformat_minor": 5,
  "nbformat": 4,
  "cells": [
    {
      "id": "efa3312a-a580-48d3-9873-9b53b26cc63c",
      "cell_type": "code",
      "source": "import pandas as pd\nimport numpy as np\n\nfile_path = 'household_power_consumption.csv'\ndf = pd.read_csv(file_path)\n\ndf.head()",
      "metadata": {
        "trusted": true
      },
      "outputs": [
        {
          "execution_count": 1,
          "output_type": "execute_result",
          "data": {
            "text/plain": "   index    Date     Time Global_active_power Global_reactive_power Voltage  \\\n0      0  1/1/07  0:00:00                2.58                 0.136  241.97   \n1      1  1/1/07  0:01:00               2.552                   0.1  241.75   \n2      2  1/1/07  0:02:00                2.55                   0.1  241.64   \n3      3  1/1/07  0:03:00                2.55                   0.1  241.71   \n4      4  1/1/07  0:04:00               2.554                   0.1  241.98   \n\n  Global_intensity Sub_metering_1 Sub_metering_2  Sub_metering_3  \n0             10.6              0              0             0.0  \n1             10.4              0              0             0.0  \n2             10.4              0              0             0.0  \n3             10.4              0              0             0.0  \n4             10.4              0              0             0.0  ",
            "text/html": "<div>\n<style scoped>\n    .dataframe tbody tr th:only-of-type {\n        vertical-align: middle;\n    }\n\n    .dataframe tbody tr th {\n        vertical-align: top;\n    }\n\n    .dataframe thead th {\n        text-align: right;\n    }\n</style>\n<table border=\"1\" class=\"dataframe\">\n  <thead>\n    <tr style=\"text-align: right;\">\n      <th></th>\n      <th>index</th>\n      <th>Date</th>\n      <th>Time</th>\n      <th>Global_active_power</th>\n      <th>Global_reactive_power</th>\n      <th>Voltage</th>\n      <th>Global_intensity</th>\n      <th>Sub_metering_1</th>\n      <th>Sub_metering_2</th>\n      <th>Sub_metering_3</th>\n    </tr>\n  </thead>\n  <tbody>\n    <tr>\n      <th>0</th>\n      <td>0</td>\n      <td>1/1/07</td>\n      <td>0:00:00</td>\n      <td>2.58</td>\n      <td>0.136</td>\n      <td>241.97</td>\n      <td>10.6</td>\n      <td>0</td>\n      <td>0</td>\n      <td>0.0</td>\n    </tr>\n    <tr>\n      <th>1</th>\n      <td>1</td>\n      <td>1/1/07</td>\n      <td>0:01:00</td>\n      <td>2.552</td>\n      <td>0.1</td>\n      <td>241.75</td>\n      <td>10.4</td>\n      <td>0</td>\n      <td>0</td>\n      <td>0.0</td>\n    </tr>\n    <tr>\n      <th>2</th>\n      <td>2</td>\n      <td>1/1/07</td>\n      <td>0:02:00</td>\n      <td>2.55</td>\n      <td>0.1</td>\n      <td>241.64</td>\n      <td>10.4</td>\n      <td>0</td>\n      <td>0</td>\n      <td>0.0</td>\n    </tr>\n    <tr>\n      <th>3</th>\n      <td>3</td>\n      <td>1/1/07</td>\n      <td>0:03:00</td>\n      <td>2.55</td>\n      <td>0.1</td>\n      <td>241.71</td>\n      <td>10.4</td>\n      <td>0</td>\n      <td>0</td>\n      <td>0.0</td>\n    </tr>\n    <tr>\n      <th>4</th>\n      <td>4</td>\n      <td>1/1/07</td>\n      <td>0:04:00</td>\n      <td>2.554</td>\n      <td>0.1</td>\n      <td>241.98</td>\n      <td>10.4</td>\n      <td>0</td>\n      <td>0</td>\n      <td>0.0</td>\n    </tr>\n  </tbody>\n</table>\n</div>"
          },
          "metadata": {}
        }
      ],
      "execution_count": 1
    },
    {
      "id": "b2bef037-9346-465e-9861-72b4d4a975e6",
      "cell_type": "code",
      "source": "import pandas as pd\nimport numpy as np\n\ndata = df[['Global_active_power', 'Global_reactive_power', 'Voltage', 'Global_intensity']].values\n\nprint(data[0, 1])\n",
      "metadata": {
        "trusted": true
      },
      "outputs": [
        {
          "name": "stdout",
          "output_type": "stream",
          "text": "0.136\n"
        }
      ],
      "execution_count": 2
    },
    {
      "id": "c56839d0-65f8-4392-9b5a-b65ce7ad8964",
      "cell_type": "code",
      "source": "print(data.size == 0) \n",
      "metadata": {
        "trusted": true
      },
      "outputs": [
        {
          "name": "stdout",
          "output_type": "stream",
          "text": "False\n"
        }
      ],
      "execution_count": 3
    },
    {
      "id": "bc29d9c7-4d7d-4c91-a5c3-d6d54479d65c",
      "cell_type": "code",
      "source": "shallow_copy_data = data.view()\n\n\nshallow_copy_data[0, 0] = 100  \nprint(\"Shallow Copy modified:\")\nprint(shallow_copy_data[0, 0])  \nprint(\"Original data modified:\")\nprint(data[0, 0])  \n\n\ndeep_copy_data = data.copy()\n\n\ndeep_copy_data[0, 1] = 200 \nprint(\"Deep Copy modified:\")\nprint(deep_copy_data[0, 1]) \nprint(\"Original data unaffected:\")\nprint(data[0, 1])\n",
      "metadata": {
        "trusted": true
      },
      "outputs": [
        {
          "name": "stdout",
          "output_type": "stream",
          "text": "Shallow Copy modified:\n100\nOriginal data modified:\n100\nDeep Copy modified:\n200\nOriginal data unaffected:\n0.136\n"
        }
      ],
      "execution_count": 4
    },
    {
      "id": "2e6727e5-fe20-4248-9a0e-3c7d3f2f5cf1",
      "cell_type": "code",
      "source": "reversed_data = data[::-1]\nprint(reversed_data[:5]) \n\nreversed_active_power = np.flip(data[:, 0])  \nprint(reversed_active_power[:5]) ",
      "metadata": {
        "trusted": true
      },
      "outputs": [
        {
          "name": "stdout",
          "output_type": "stream",
          "text": "[['2.548' '0.354' '239.25' '10.6']\n ['2.66' '0.29' '238.98' '11.2']\n ['2.882' '0.28' '239.05' '12']\n ['2.892' '0.358' '238.86' '12.2']\n ['2.88' '0.36' '239.01' '12']]\n['2.548' '2.66' '2.882' '2.892' '2.88']\n"
        }
      ],
      "execution_count": 5
    },
    {
      "id": "06f29a4a-5864-4cb5-ad54-7cebad99652c",
      "cell_type": "code",
      "source": "import numpy as np\n\nglobal_active_power = np.array([\n    2.58, 2.552, 2.55, 2.55, 2.554, 2.55, 2.534, 2.484, 2.468, 2.486\n])\nglobal_reactive_power = np.array([\n    0.136, 0.1, 0.1, 0.1, 0.1, 0.1, 0.096, 0.0, 0.0, 0.0\n])\n\naddition = global_active_power + global_reactive_power\nprint(\"Element-wise addition:\")\nprint(addition)\n\nsubtraction = global_active_power - global_reactive_power\nprint(\"\\nElement-wise subtraction:\")\nprint(subtraction)\n\nmultiplication = global_active_power * global_reactive_power\nprint(\"\\nElement-wise multiplication:\")\nprint(multiplication)\n\ndivision = np.divide(global_active_power, global_reactive_power, where=global_reactive_power != 0)\nprint(\"\\nElement-wise division:\")\nprint(division)",
      "metadata": {
        "trusted": true
      },
      "outputs": [
        {
          "name": "stdout",
          "output_type": "stream",
          "text": "Element-wise addition:\n[2.716 2.652 2.65  2.65  2.654 2.65  2.63  2.484 2.468 2.486]\n\nElement-wise subtraction:\n[2.444 2.452 2.45  2.45  2.454 2.45  2.438 2.484 2.468 2.486]\n\nElement-wise multiplication:\n[0.35088  0.2552   0.255    0.255    0.2554   0.255    0.243264 0.\n 0.       0.      ]\n\nElement-wise division:\n[18.97058824 25.52       25.5        25.5        25.54       25.5\n 26.39583333  0.          0.          0.        ]\n"
        }
      ],
      "execution_count": 9
    },
    {
      "id": "ce82bc66-fa87-4430-beff-d59157180644",
      "cell_type": "code",
      "source": "",
      "metadata": {
        "trusted": true
      },
      "outputs": [],
      "execution_count": null
    }
  ]
}